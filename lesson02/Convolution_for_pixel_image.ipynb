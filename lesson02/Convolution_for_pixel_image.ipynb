{
  "cells": [
    {
      "cell_type": "markdown",
      "source": [
        "## Convolution function\n",
        "\n",
        "Let's write our own convolution function for a simple black&white image"
      ],
      "metadata": {
        "id": "-1sALGY2-6I0"
      },
      "id": "-1sALGY2-6I0"
    },
    {
      "cell_type": "code",
      "execution_count": 1,
      "id": "abd5b1b5-699b-4db5-86a9-f810c8952574",
      "metadata": {
        "id": "abd5b1b5-699b-4db5-86a9-f810c8952574"
      },
      "outputs": [],
      "source": [
        "import numpy as np\n",
        "import math\n",
        "from matplotlib import pyplot as plt"
      ]
    },
    {
      "cell_type": "code",
      "execution_count": 2,
      "id": "4405963f-beb5-46cf-8632-52d444cbe3af",
      "metadata": {
        "id": "4405963f-beb5-46cf-8632-52d444cbe3af"
      },
      "outputs": [],
      "source": [
        "def image_convolution(matrix, kernel):\n",
        "    # TODO\n",
        "    # write a convolution function that applies a kernel across an image matrix\n",
        "\n",
        "    # potentially useful info:\n",
        "    # for numpy arrays with same dimensions, A * B multiplies each of values from A by each corresponding item in B:\n",
        "\n",
        "    print(matrix[:3,:3] * kernel)\n",
        "\n",
        "    return"
      ]
    },
    {
      "cell_type": "markdown",
      "source": [
        "This will be our image"
      ],
      "metadata": {
        "id": "dc7ODvHg_Lgx"
      },
      "id": "dc7ODvHg_Lgx"
    },
    {
      "cell_type": "code",
      "execution_count": 3,
      "id": "fdefbf1c-8cfd-4627-bcac-5db932482b0e",
      "metadata": {
        "id": "fdefbf1c-8cfd-4627-bcac-5db932482b0e"
      },
      "outputs": [],
      "source": [
        "matrix = np.array([\n",
        "                    [ 1,-1,-1,-1, 1,-1,-1,-1, 1],\n",
        "                    [-1,-1, 0,-1,-1,-1, 0,-1,-1],\n",
        "                    [-1, 0, 0, 0,-1, 0, 0, 0,-1],\n",
        "                    [-1, 0, 0, 0, 0, 0, 0, 0,-1],\n",
        "                    [-1,-1, 0, 0, 0, 0, 0,-1,-1],\n",
        "                    [ 1,-1,-1, 0, 0, 0,-1,-1, 1],\n",
        "                    [ 1, 1,-1,-1, 0,-1,-1, 1, 1],\n",
        "                    [ 1, 1, 1,-1,-1,-1, 1, 1, 1]\n",
        "                  ])"
      ]
    },
    {
      "cell_type": "code",
      "source": [
        "plt.imshow(matrix, cmap='gray')"
      ],
      "metadata": {
        "id": "qP9XKEQsxABL"
      },
      "id": "qP9XKEQsxABL",
      "execution_count": null,
      "outputs": []
    },
    {
      "cell_type": "markdown",
      "source": [
        "These are kernels we can use:"
      ],
      "metadata": {
        "id": "N5M4QvXf_Qa-"
      },
      "id": "N5M4QvXf_Qa-"
    },
    {
      "cell_type": "code",
      "execution_count": 5,
      "id": "f2a5e3bc-9b6e-40cd-bbe4-71096cb80574",
      "metadata": {
        "id": "f2a5e3bc-9b6e-40cd-bbe4-71096cb80574"
      },
      "outputs": [],
      "source": [
        "kernel_1 = np.array([[  0, 0.2,   0],\n",
        "                     [0.2,   1, 0.2],\n",
        "                     [  0, 0.2,   0]])\n",
        "\n",
        "kernel_2 = np.array([[ 0, -1,  0],\n",
        "                     [-1,  4, -1],\n",
        "                     [ 0, -1,  0]])\n",
        "\n",
        "kernel_3 = np.array([[ -1, -1, -1],\n",
        "                     [  2,  2,  2],\n",
        "                     [ -1, -1, -1]])"
      ]
    },
    {
      "cell_type": "markdown",
      "source": [
        "Apply convolution to our image matrix"
      ],
      "metadata": {
        "id": "RCxJLUecG7rK"
      },
      "id": "RCxJLUecG7rK"
    },
    {
      "cell_type": "code",
      "execution_count": null,
      "id": "f4ee979e-9ee9-44a2-9b4f-2dd90b24173c",
      "metadata": {
        "id": "f4ee979e-9ee9-44a2-9b4f-2dd90b24173c"
      },
      "outputs": [],
      "source": [
        "result_1 = image_convolution(matrix, kernel_1)\n",
        "result_1"
      ]
    },
    {
      "cell_type": "markdown",
      "source": [
        "Show the result of convolution"
      ],
      "metadata": {
        "id": "m6qJK_Hl_jkX"
      },
      "id": "m6qJK_Hl_jkX"
    },
    {
      "cell_type": "code",
      "source": [
        "plt.imshow(result_1, cmap='gray')"
      ],
      "metadata": {
        "id": "wPpx6srVz-AH"
      },
      "id": "wPpx6srVz-AH",
      "execution_count": null,
      "outputs": []
    }
  ],
  "metadata": {
    "kernelspec": {
      "display_name": "Python [conda env:eva_env]",
      "language": "python",
      "name": "conda-env-eva_env-py"
    },
    "language_info": {
      "codemirror_mode": {
        "name": "ipython",
        "version": 3
      },
      "file_extension": ".py",
      "mimetype": "text/x-python",
      "name": "python",
      "nbconvert_exporter": "python",
      "pygments_lexer": "ipython3",
      "version": "3.8.15"
    },
    "colab": {
      "provenance": []
    }
  },
  "nbformat": 4,
  "nbformat_minor": 5
}