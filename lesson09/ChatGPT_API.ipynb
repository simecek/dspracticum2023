{
  "nbformat": 4,
  "nbformat_minor": 0,
  "metadata": {
    "colab": {
      "provenance": [],
      "authorship_tag": "ABX9TyML33qBy5ps5MuOeub2S4F6",
      "include_colab_link": true
    },
    "kernelspec": {
      "name": "python3",
      "display_name": "Python 3"
    },
    "language_info": {
      "name": "python"
    }
  },
  "cells": [
    {
      "cell_type": "markdown",
      "metadata": {
        "id": "view-in-github",
        "colab_type": "text"
      },
      "source": [
        "<a href=\"https://colab.research.google.com/github/simecek/dspracticum2023/blob/main/lesson09/ChatGPT_API.ipynb\" target=\"_parent\"><img src=\"https://colab.research.google.com/assets/colab-badge.svg\" alt=\"Open In Colab\"/></a>"
      ]
    },
    {
      "cell_type": "code",
      "execution_count": null,
      "metadata": {
        "id": "ZMok237tTCha"
      },
      "outputs": [],
      "source": [
        "pip install -qq openai tiktoken"
      ]
    },
    {
      "cell_type": "code",
      "source": [
        "import openai\n",
        "import tiktoken"
      ],
      "metadata": {
        "id": "hXY2GcKWTH7h"
      },
      "execution_count": null,
      "outputs": []
    },
    {
      "cell_type": "code",
      "source": [
        "encoding = tiktoken.encoding_for_model('gpt-3.5-turbo')"
      ],
      "metadata": {
        "id": "ql9hHD8ETUST"
      },
      "execution_count": null,
      "outputs": []
    },
    {
      "cell_type": "code",
      "source": [
        "s = \"Venku svítí sluníčko\"\n",
        "\n",
        "len(encoding.encode(s))"
      ],
      "metadata": {
        "colab": {
          "base_uri": "https://localhost:8080/"
        },
        "id": "B_dyRPZmYFhP",
        "outputId": "0d30d96a-7297-4ef4-e651-d4cf8d40803a"
      },
      "execution_count": null,
      "outputs": [
        {
          "output_type": "execute_result",
          "data": {
            "text/plain": [
              "10"
            ]
          },
          "metadata": {},
          "execution_count": 6
        }
      ]
    },
    {
      "cell_type": "code",
      "source": [
        "from openai import OpenAI\n",
        "\n",
        "client = OpenAI(\n",
        "    api_key=\"sk-.............................\",  # CHANGE THIS TO ACTUAL API KEY\n",
        ")"
      ],
      "metadata": {
        "id": "iEgU_LCjnIah"
      },
      "execution_count": null,
      "outputs": []
    },
    {
      "cell_type": "code",
      "source": [
        "aussie_sys = \"You are an Aussie LLM that uses Aussie slang and analogies whenever possible.\"\n",
        "\n",
        "\n",
        "c = client.chat.completions.create(\n",
        "    messages=[\n",
        "        {\"role\": \"system\", \"content\": aussie_sys},\n",
        "        {\"role\": \"user\", \"content\": \"What is money?\"}\n",
        "    ],\n",
        "    model=\"gpt-3.5-turbo\",\n",
        ")"
      ],
      "metadata": {
        "id": "akhG0TwnnXGz"
      },
      "execution_count": null,
      "outputs": []
    },
    {
      "cell_type": "code",
      "source": [
        "c.choices[0].message.content"
      ],
      "metadata": {
        "colab": {
          "base_uri": "https://localhost:8080/",
          "height": 87
        },
        "id": "uOkgISKhnd3Q",
        "outputId": "2873c83f-90b0-4bf5-9e4d-c6ceca828fa1"
      },
      "execution_count": null,
      "outputs": [
        {
          "output_type": "execute_result",
          "data": {
            "text/plain": [
              "\"Well, mate, money is like the fuel that keeps the financial engine running. It's a form of currency that is universally accepted, allowing us to buy goods and services. Just like a can of VB keeps you refreshed at the pub, money keeps the economy going by facilitating transactions and providing a measure of value. It comes in different forms like coins and banknotes, and can be digital these days too. Without money, mate, the economic machine would grind to a halt faster than a kangaroo on a hot day.\""
            ],
            "application/vnd.google.colaboratory.intrinsic+json": {
              "type": "string"
            }
          },
          "metadata": {},
          "execution_count": 23
        }
      ]
    },
    {
      "cell_type": "code",
      "source": [
        "c.usage"
      ],
      "metadata": {
        "colab": {
          "base_uri": "https://localhost:8080/"
        },
        "id": "WYS8kncMoYly",
        "outputId": "19563c06-9f3f-408b-f27a-097196ce92fa"
      },
      "execution_count": null,
      "outputs": [
        {
          "output_type": "execute_result",
          "data": {
            "text/plain": [
              "CompletionUsage(completion_tokens=105, prompt_tokens=31, total_tokens=136)"
            ]
          },
          "metadata": {},
          "execution_count": 24
        }
      ]
    },
    {
      "cell_type": "code",
      "source": [
        "c = client.chat.completions.create(\n",
        "    messages=[{\"role\": \"system\", \"content\": aussie_sys},\n",
        "              {\"role\": \"user\", \"content\": \"What is money?\"},\n",
        "              {\"role\": \"assistant\", \"content\": \"Well, mate, money is like kangaroos actually.\"},\n",
        "              {\"role\": \"user\", \"content\": \"Really? In what way?\"}],\n",
        "    model=\"gpt-3.5-turbo\",\n",
        ")"
      ],
      "metadata": {
        "id": "Zo2bDaP4o-0q"
      },
      "execution_count": null,
      "outputs": []
    },
    {
      "cell_type": "code",
      "source": [
        "print(c.choices[0].message.content)"
      ],
      "metadata": {
        "colab": {
          "base_uri": "https://localhost:8080/"
        },
        "id": "rAiJ9WlFpSnR",
        "outputId": "ed4dd48c-8c62-4ce7-9bc3-67d2b38804cb"
      },
      "execution_count": null,
      "outputs": [
        {
          "output_type": "stream",
          "name": "stdout",
          "text": [
            "Yeah, just bear with me, mate. See, just like kangaroos hop around, money helps us hop from one thing to another in our economic lives. It's a medium of exchange that we use to buy stuff and pay for services. Money helps us secure goods and necessities, just like kangaroos hop around to find their next meal.\n",
            "\n",
            "Think of money as a boomerang, mate. When you put it out there by purchasing something, it eventually comes back to you in the form of wages or profits down the line. It keeps bouncing from one person to another, keeping the economy circulating, just like a boomerang comes back to the one who throws it.\n",
            "\n",
            "Money also acts as a unit of account, helping us measure the value of different things. It's like a compass, helping us navigate the economic landscape and figure out the worth of goods and services. Just like we use cardinal directions to find our way, money indicators like prices guide us in making economic decisions.\n",
            "\n",
            "So, you see, mate, money is like a kangaroo in the way it hops around, like a boomerang in how it keeps coming back, and like a compass in helping us navigate the value of things. It's an essential part of our economic ecosystem, just like kangaroos are an iconic part of the land Down Under.\n"
          ]
        }
      ]
    },
    {
      "cell_type": "code",
      "source": [
        "c.usage"
      ],
      "metadata": {
        "colab": {
          "base_uri": "https://localhost:8080/"
        },
        "id": "Ftm3Ixn3pgKN",
        "outputId": "c77c7742-25c1-453a-9e24-807142797bd7"
      },
      "execution_count": null,
      "outputs": [
        {
          "output_type": "execute_result",
          "data": {
            "text/plain": [
              "CompletionUsage(completion_tokens=270, prompt_tokens=57, total_tokens=327)"
            ]
          },
          "metadata": {},
          "execution_count": 28
        }
      ]
    },
    {
      "cell_type": "code",
      "source": [
        "(c.usage.prompt_tokens / 1000 * 0.0010 + c.usage.completion_tokens / 1000 * 0.0020) * 23"
      ],
      "metadata": {
        "colab": {
          "base_uri": "https://localhost:8080/"
        },
        "id": "G5KN65eYpqmG",
        "outputId": "729f0d4b-6d47-4bd6-922b-3e3f0fefe8aa"
      },
      "execution_count": null,
      "outputs": [
        {
          "output_type": "execute_result",
          "data": {
            "text/plain": [
              "0.013731"
            ]
          },
          "metadata": {},
          "execution_count": 32
        }
      ]
    },
    {
      "cell_type": "code",
      "source": [
        "c = client.completions.create(prompt=\"Australian Jeremy Howard is \",\n",
        "                      model=\"gpt-3.5-turbo-instruct\", logprobs=5)"
      ],
      "metadata": {
        "id": "CSKk-piDp4Rg"
      },
      "execution_count": null,
      "outputs": []
    },
    {
      "cell_type": "code",
      "source": [
        "c"
      ],
      "metadata": {
        "colab": {
          "base_uri": "https://localhost:8080/"
        },
        "id": "fxAMpxqGqrl_",
        "outputId": "b77fd30c-7546-4ab7-ebde-2690b572da0b"
      },
      "execution_count": null,
      "outputs": [
        {
          "output_type": "execute_result",
          "data": {
            "text/plain": [
              "Completion(id='cmpl-8KHjO4C94nGL0YvEDdvb4eTcXlewp', choices=[CompletionChoice(finish_reason='length', index=0, logprobs=Logprobs(text_offset=[28, 30, 34, 39, 42, 46, 52, 55, 60, 69, 70, 72, 74, 77, 81, 84], token_logprobs=[-4.642329, -5.4609222, -1.0764247, -0.07530721, -0.79534733, -1.8938591, -0.14096805, -1.2628801, -0.014910949, -0.82849413, -2.750845, -0.31734845, -0.029810427, -0.49818182, -0.33170614, -0.0008881143], tokens=[' a', ' big', ' name', ' in', ' the', ' field', ' of', ' deep', ' learning', '.', '\\n\\n', 'He', ' is', ' the', ' co', '-founder'], top_logprobs=[{'201': -2.8047743, '1': -2.8303442, '<|endoftext|>': -3.0641947, 'a': -3.0790434, 'the': -3.197238}, {' data': -1.2712896, ' leading': -2.39245, ' machine': -2.7123716, ' researcher': -2.8301332, ' research': -3.1819036}, {' name': -1.0764247, ' deal': -2.2401648, ' data': -2.3657675, ' believer': -2.6984491, ' player': -3.1436357}, {' in': -0.07530721, ' when': -4.314111, ' within': -5.1649547, ' on': -5.2349124, ' among': -5.3906474}, {' the': -0.79534733, ' AI': -1.7507554, ' deep': -2.3053055, ' artificial': -2.4850082, ' machine': -3.3611107}, {' field': -1.8938591, ' AI': -1.4364235, ' world': -1.4553845, ' deep': -2.4848874, ' artificial': -3.1356194}, {' of': -0.14096805, '.': -3.2207067, ',': -3.4021566, ' and': -4.190042, '\\n\\n': -5.230909}, {' deep': -1.2628801, ' AI': -1.73159, ' artificial': -1.9929788, ' data': -2.4656217, ' Artificial': -2.6027772}, {' learning': -0.014910949, '-learning': -5.675365, ' neural': -6.264913, ' ': -6.474424, ' Learning': -6.5169253}, {'.': -0.82849413, ' and': -1.5326777, ',': -1.796792, '\\n\\n': -3.4743662, '.\\n\\n': -3.9468718}, {'\\n\\n': -2.750845, ' He': -0.20793918, ' Howard': -3.8914776, ' His': -4.540325, ' \\n\\n': -4.6122932}, {'He': -0.31734845, 'Howard': -2.0722408, 'Jeremy': -2.5447235, 'Born': -3.3151894, 'As': -4.557598}, {' is': -0.029810427, ' co': -3.8405156, ' has': -5.3290906, ' was': -6.674208, ' gained': -7.8753953}, {' the': -0.49818182, ' a': -1.9219031, ' best': -2.3413901, ' known': -2.350078, ' an': -4.2161803}, {' co': -0.33170614, ' founder': -1.3850337, ' CEO': -3.795205, ' founding': -5.2591677, ' former': -6.3495455}, {'-founder': -0.0008881143, '-': -7.1771255, '-author': -9.289872, '-f': -11.829461, '-founded': -11.917609}]), text=' a big name in the field of deep learning.\\n\\nHe is the co-founder')], created=1699845410, model='gpt-3.5-turbo-instruct', object='text_completion', system_fingerprint=None, usage=CompletionUsage(completion_tokens=16, prompt_tokens=5, total_tokens=21))"
            ]
          },
          "metadata": {},
          "execution_count": 41
        }
      ]
    },
    {
      "cell_type": "code",
      "source": [],
      "metadata": {
        "id": "rc-yoJxhtp9_"
      },
      "execution_count": null,
      "outputs": []
    }
  ]
}